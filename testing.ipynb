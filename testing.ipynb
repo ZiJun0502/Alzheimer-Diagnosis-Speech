{
 "cells": [
  {
   "cell_type": "code",
   "execution_count": 4,
   "id": "28dad28b",
   "metadata": {},
   "outputs": [
    {
     "ename": "ModuleNotFoundError",
     "evalue": "No module named 'mfcc_obj'",
     "output_type": "error",
     "traceback": [
      "\u001b[0;31m---------------------------------------------------------------------------\u001b[0m",
      "\u001b[0;31mModuleNotFoundError\u001b[0m                       Traceback (most recent call last)",
      "Input \u001b[0;32mIn [4]\u001b[0m, in \u001b[0;36m<cell line: 2>\u001b[0;34m()\u001b[0m\n\u001b[1;32m      1\u001b[0m \u001b[38;5;28;01mimport\u001b[39;00m \u001b[38;5;21;01mos\u001b[39;00m\n\u001b[0;32m----> 2\u001b[0m \u001b[38;5;28;01mimport\u001b[39;00m \u001b[38;5;21;01mmfcc_obj\u001b[39;00m\n\u001b[1;32m      3\u001b[0m \u001b[38;5;28;01mimport\u001b[39;00m \u001b[38;5;21;01mNLP_obj\u001b[39;00m\n\u001b[1;32m      4\u001b[0m \u001b[38;5;28;01mimport\u001b[39;00m \u001b[38;5;21;01mMergeInput\u001b[39;00m\n",
      "\u001b[0;31mModuleNotFoundError\u001b[0m: No module named 'mfcc_obj'"
     ]
    }
   ],
   "source": [
    "import os\n",
    "import mfcc_obj\n",
    "import NLP_obj\n",
    "import MergeInput\n",
    "import sys\n",
    "import wave\n",
    "import requests\n",
    "\n",
    "wav_file = \"sample.wav\"\n",
    "transcript_file = 'output.txt'\n",
    "\n",
    "#implement NLP\n",
    "NLP = NLP_obj.NLP_features(transcript_file)\n",
    "NLP.generate_features()\n",
    "print(NLP.feature_table)  #寫入csv??\n",
    "\n",
    "#implement MFCC\n",
    "MFCC = mfcc_obj.mfcc_features(wav_file)\n",
    "MFCC.mfcc_feature_calculation()\n",
    "MFCC.mfcc_output(\"testdoc\")\n"
   ]
  },
  {
   "cell_type": "code",
   "execution_count": null,
   "id": "c9c9dc62",
   "metadata": {},
   "outputs": [],
   "source": []
  }
 ],
 "metadata": {
  "kernelspec": {
   "display_name": "Python 3 (ipykernel)",
   "language": "python",
   "name": "python3"
  },
  "language_info": {
   "codemirror_mode": {
    "name": "ipython",
    "version": 3
   },
   "file_extension": ".py",
   "mimetype": "text/x-python",
   "name": "python",
   "nbconvert_exporter": "python",
   "pygments_lexer": "ipython3",
   "version": "3.9.18"
  }
 },
 "nbformat": 4,
 "nbformat_minor": 5
}
