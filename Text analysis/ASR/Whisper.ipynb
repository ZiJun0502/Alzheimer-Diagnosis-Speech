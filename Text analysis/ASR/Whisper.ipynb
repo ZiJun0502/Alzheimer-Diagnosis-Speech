{
  "cells": [
    {
      "cell_type": "code",
      "execution_count": null,
      "metadata": {
        "id": "FP8a90mGknW1"
      },
      "outputs": [],
      "source": [
        "!pip install whisper\n",
        "!pip install git+https://github.com/openai/whisper.git"
      ]
    },
    {
      "cell_type": "code",
      "execution_count": null,
      "metadata": {
        "id": "PPSYGKpt1WHN"
      },
      "outputs": [],
      "source": [
        "from google.colab import drive\n",
        "drive.mount('/content/drive')"
      ]
    },
    {
      "cell_type": "code",
      "execution_count": null,
      "metadata": {
        "id": "TF_0yddLXAUw"
      },
      "outputs": [],
      "source": [
        "import whisper\n",
        "import nltk\n",
        "import pandas as pd"
      ]
    },
    {
      "cell_type": "code",
      "execution_count": null,
      "metadata": {
        "id": "ElrU9bDK4uPp"
      },
      "outputs": [],
      "source": [
        "import whisper\n",
        "filenames = []\n",
        "f = open('/content/drive/MyDrive/Colab Notebooks/term project/TED talk.wav/ted_info.txt')\n",
        "for line in f.readlines():\n",
        "    filenames.append(line[0:len(line)-1])\n",
        "f.close\n",
        "model = whisper.load_model(\"base\")\n",
        "for i in range(0,len(filenames)):\n",
        "    try:\n",
        "      source_file_path='/content/drive/MyDrive/Colab Notebooks/term project/TED talk.wav/unnoise_'+filenames[i][0:len(filenames[i])-4]+'.wav'\n",
        "      print(source_file_path)\n",
        "      result = model.transcribe(source_file_path)\n",
        "      file_path='/content/drive/MyDrive/Colab Notebooks/term project/TED text/'+filenames[i][0:len(filenames[i])-4]+'.txt'\n",
        "      with open(file_path, 'w', newline='',encoding='UTF-8') as f:\n",
        "        f.writelines(result[\"text\"])\n",
        "    except:\n",
        "      print(\"continue\")\n",
        "      continue"
      ]
    },
    {
      "cell_type": "code",
      "execution_count": null,
      "metadata": {
        "id": "Vh_FOy3q_5nb"
      },
      "outputs": [],
      "source": [
        "for i in range(0,len(filenames)):\n",
        "  source_file_path='/content/drive/MyDrive/Colab Notebooks/term project/CTT wav file/'+str(i)+'CTT.wav'\n",
        "  print(source_file_path)\n",
        "  result = model.transcribe(source_file_path)\n",
        "  file_path='/content/drive/MyDrive/Colab Notebooks/term project/CTT txt file/'+str(i)+'CTT.txt'\n",
        "  with open(file_path, 'w', newline='') as f:\n",
        "    f.writelines(result[\"text\"])"
      ]
    },
    {
      "cell_type": "code",
      "execution_count": null,
      "metadata": {
        "id": "fnpDQ8tojlMl"
      },
      "outputs": [],
      "source": [
        "model = whisper.load_model(\"base\")\n",
        "result = model.transcribe(\"/content/drive/MyDrive/Colab Notebooks/term project/wav file/Baycrest12814.wav\")\n",
        "file_path = '/content/drive/MyDrive/Colab Notebooks/term project/txt file/Baycrest12814.txt'\n",
        "with open(file_path, 'w', newline='') as f:\n",
        "  f.writelines(result[\"text\"])"
      ]
    }
  ],
  "metadata": {
    "accelerator": "TPU",
    "colab": {
      "provenance": []
    },
    "kernelspec": {
      "display_name": "Python 3",
      "name": "python3"
    },
    "language_info": {
      "name": "python"
    }
  },
  "nbformat": 4,
  "nbformat_minor": 0
}