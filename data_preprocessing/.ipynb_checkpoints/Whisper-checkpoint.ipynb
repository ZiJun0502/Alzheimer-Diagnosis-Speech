{
 "cells": [
  {
   "cell_type": "code",
   "execution_count": 1,
   "id": "f2a86503",
   "metadata": {},
   "outputs": [
    {
     "name": "stdout",
     "output_type": "stream",
     "text": [
      "Collecting whisper\n",
      "  Downloading whisper-1.1.10.tar.gz (42 kB)\n",
      "\u001b[K     |████████████████████████████████| 42 kB 750 kB/s eta 0:00:01\n",
      "\u001b[?25hRequirement already satisfied: six in /Users/daphne/opt/anaconda3/lib/python3.9/site-packages (from whisper) (1.16.0)\n",
      "Building wheels for collected packages: whisper\n",
      "  Building wheel for whisper (setup.py) ... \u001b[?25ldone\n",
      "\u001b[?25h  Created wheel for whisper: filename=whisper-1.1.10-py3-none-any.whl size=41138 sha256=9b3c917fe1cbc490e76852655a31a383a1fe1a773390e1efdca4551736952a56\n",
      "  Stored in directory: /Users/daphne/Library/Caches/pip/wheels/f1/01/8c/1b449563518aa0f8813d044f7a910884e3b8313711becb66d6\n",
      "Successfully built whisper\n",
      "Installing collected packages: whisper\n",
      "Successfully installed whisper-1.1.10\n",
      "Collecting git+https://github.com/openai/whisper.git\n",
      "  Cloning https://github.com/openai/whisper.git to /private/var/folders/rc/rz13w_vj2fsbt6vj22ns73500000gn/T/pip-req-build-khovapmv\n",
      "  Running command git clone -q https://github.com/openai/whisper.git /private/var/folders/rc/rz13w_vj2fsbt6vj22ns73500000gn/T/pip-req-build-khovapmv\n",
      "  Resolved https://github.com/openai/whisper.git to commit e58f28804528831904c3b6f2c0e473f346223433\n",
      "  Installing build dependencies ... \u001b[?25ldone\n",
      "\u001b[?25h  Getting requirements to build wheel ... \u001b[?25ldone\n",
      "\u001b[?25h    Preparing wheel metadata ... \u001b[?25ldone\n",
      "\u001b[?25hCollecting torch\n",
      "  Downloading torch-2.1.1-cp39-none-macosx_10_9_x86_64.whl (147.0 MB)\n",
      "\u001b[K     |████████████████████████████████| 147.0 MB 7.5 MB/s eta 0:00:011\n",
      "\u001b[?25hRequirement already satisfied: tqdm in /Users/daphne/opt/anaconda3/lib/python3.9/site-packages (from openai-whisper==20231117) (4.64.0)\n",
      "Requirement already satisfied: numpy in /Users/daphne/opt/anaconda3/lib/python3.9/site-packages (from openai-whisper==20231117) (1.21.5)\n",
      "Collecting more-itertools\n",
      "  Downloading more_itertools-10.1.0-py3-none-any.whl (55 kB)\n",
      "\u001b[K     |████████████████████████████████| 55 kB 11.7 MB/s eta 0:00:01\n",
      "\u001b[?25hRequirement already satisfied: numba in /Users/daphne/opt/anaconda3/lib/python3.9/site-packages (from openai-whisper==20231117) (0.55.1)\n",
      "Collecting tiktoken\n",
      "  Downloading tiktoken-0.5.1-cp39-cp39-macosx_10_9_x86_64.whl (953 kB)\n",
      "\u001b[K     |████████████████████████████████| 953 kB 70.0 MB/s eta 0:00:01\n",
      "\u001b[?25hRequirement already satisfied: llvmlite<0.39,>=0.38.0rc1 in /Users/daphne/opt/anaconda3/lib/python3.9/site-packages (from numba->openai-whisper==20231117) (0.38.0)\n",
      "Requirement already satisfied: setuptools in /Users/daphne/opt/anaconda3/lib/python3.9/site-packages (from numba->openai-whisper==20231117) (61.2.0)\n",
      "Requirement already satisfied: requests>=2.26.0 in /Users/daphne/opt/anaconda3/lib/python3.9/site-packages (from tiktoken->openai-whisper==20231117) (2.27.1)\n",
      "Requirement already satisfied: regex>=2022.1.18 in /Users/daphne/opt/anaconda3/lib/python3.9/site-packages (from tiktoken->openai-whisper==20231117) (2022.3.15)\n",
      "Requirement already satisfied: urllib3<1.27,>=1.21.1 in /Users/daphne/opt/anaconda3/lib/python3.9/site-packages (from requests>=2.26.0->tiktoken->openai-whisper==20231117) (1.26.9)\n",
      "Requirement already satisfied: certifi>=2017.4.17 in /Users/daphne/opt/anaconda3/lib/python3.9/site-packages (from requests>=2.26.0->tiktoken->openai-whisper==20231117) (2021.10.8)\n",
      "Requirement already satisfied: charset-normalizer~=2.0.0 in /Users/daphne/opt/anaconda3/lib/python3.9/site-packages (from requests>=2.26.0->tiktoken->openai-whisper==20231117) (2.0.4)\n",
      "Requirement already satisfied: idna<4,>=2.5 in /Users/daphne/opt/anaconda3/lib/python3.9/site-packages (from requests>=2.26.0->tiktoken->openai-whisper==20231117) (3.3)\n",
      "Requirement already satisfied: sympy in /Users/daphne/opt/anaconda3/lib/python3.9/site-packages (from torch->openai-whisper==20231117) (1.10.1)\n",
      "Requirement already satisfied: networkx in /Users/daphne/opt/anaconda3/lib/python3.9/site-packages (from torch->openai-whisper==20231117) (2.7.1)\n",
      "Requirement already satisfied: filelock in /Users/daphne/opt/anaconda3/lib/python3.9/site-packages (from torch->openai-whisper==20231117) (3.6.0)\n",
      "Requirement already satisfied: typing-extensions in /Users/daphne/opt/anaconda3/lib/python3.9/site-packages (from torch->openai-whisper==20231117) (4.1.1)\n",
      "Requirement already satisfied: fsspec in /Users/daphne/opt/anaconda3/lib/python3.9/site-packages (from torch->openai-whisper==20231117) (2022.2.0)\n",
      "Requirement already satisfied: jinja2 in /Users/daphne/opt/anaconda3/lib/python3.9/site-packages (from torch->openai-whisper==20231117) (2.11.3)\n",
      "Requirement already satisfied: MarkupSafe>=0.23 in /Users/daphne/opt/anaconda3/lib/python3.9/site-packages (from jinja2->torch->openai-whisper==20231117) (2.0.1)\n",
      "Requirement already satisfied: mpmath>=0.19 in /Users/daphne/opt/anaconda3/lib/python3.9/site-packages (from sympy->torch->openai-whisper==20231117) (1.2.1)\n",
      "Building wheels for collected packages: openai-whisper\n",
      "  Building wheel for openai-whisper (PEP 517) ... \u001b[?25ldone\n",
      "\u001b[?25h  Created wheel for openai-whisper: filename=openai_whisper-20231117-py3-none-any.whl size=801344 sha256=bf8a20b26dd94febea038310b9628b6ca35a73c2881c6b4556b71ff3d956de10\n",
      "  Stored in directory: /private/var/folders/rc/rz13w_vj2fsbt6vj22ns73500000gn/T/pip-ephem-wheel-cache-kmqeb0lm/wheels/fe/03/29/e7919208d11b4ab32972cb448bb84a9a675d92cd52c9a48341\n",
      "Successfully built openai-whisper\n",
      "Installing collected packages: torch, tiktoken, more-itertools, openai-whisper\n",
      "Successfully installed more-itertools-10.1.0 openai-whisper-20231117 tiktoken-0.5.1 torch-2.1.1\n"
     ]
    }
   ],
   "source": [
    "#environment setup\n",
    "!pip install whisper\n",
    "!pip install git+https://github.com/openai/whisper.git"
   ]
  },
  {
   "cell_type": "code",
   "execution_count": null,
   "id": "1a1f3772",
   "metadata": {},
   "outputs": [],
   "source": [
    "import whisper\n",
    "import nltk\n",
    "\n",
    "# model = whisper.load_model(\"base\")\n",
    "# result = model.transcribe(\"/content/drive/MyDrive/Colab Notebooks/term project/wav file/Baycrest8961.wav\")\n",
    "# file_path = '/content/drive/MyDrive/Colab Notebooks/term project/txt file/Baycrest8961.txt'\n",
    "# with open(file_path, 'w', newline='') as f:\n",
    "#     f.writelines(result[\"text\"])\n",
    "    "
   ]
  },
  {
   "cell_type": "code",
   "execution_count": null,
   "id": "93378438",
   "metadata": {},
   "outputs": [],
   "source": [
    "# import pandas as pd\n",
    "\n",
    "# training_df = pd.read_csv('/content/drive/MyDrive/Colab Notebooks/term project/patient_info.csv')\n",
    "# y = training_df['name']\n",
    "# model = whisper.load_model(\"base\")\n",
    "# for i in range(0,len(y)):\n",
    "#     source_file_path='/content/drive/MyDrive/Colab Notebooks/term project/wav file/'+y[i]+'.wav'\n",
    "#     print(source_file_path)\n",
    "#     result = model.transcribe(source_file_path)\n",
    "#     file_path='/content/drive/MyDrive/Colab Notebooks/term project/txt file/'+y[i]+'.txt'\n",
    "#     with open(file_path, 'w', newline='') as f:\n",
    "#         f.writelines(result[\"text\"])"
   ]
  },
  {
   "cell_type": "code",
   "execution_count": null,
   "id": "0ca73780",
   "metadata": {},
   "outputs": [],
   "source": [
    "# for i in range(42,101):\n",
    "#     source_file_path='/content/drive/MyDrive/Colab Notebooks/term project/CTT wav file/'+str(i)+'CTT.wav'\n",
    "#     print(source_file_path)\n",
    "#     result = model.transcribe(source_file_path)\n",
    "#     file_path='/content/drive/MyDrive/Colab Notebooks/term project/CTT txt file/'+str(i)+'CTT.txt'\n",
    "#     with open(file_path, 'w', newline='') as f:\n",
    "#         f.writelines(result[\"text\"])"
   ]
  },
  {
   "cell_type": "code",
   "execution_count": null,
   "id": "68e948ae",
   "metadata": {},
   "outputs": [],
   "source": [
    "model = whisper.load_model(\"base\")\n",
    "result = model.transcribe(\"/content/drive/MyDrive/Colab Notebooks/term project/wav file/Baycrest12814.wav\")\n",
    "file_path = '/content/drive/MyDrive/Colab Notebooks/term project/txt file/Baycrest12814.txt'\n",
    "\n",
    "with open(file_path, 'w', newline='') as f:\n",
    "    f.writelines(result[\"text\"])"
   ]
  },
  {
   "cell_type": "code",
   "execution_count": null,
   "id": "dca6d961",
   "metadata": {},
   "outputs": [],
   "source": [
    "#詞性分析\n",
    "text = nltk.word_tokenize(result[\"text\"])\n",
    "process=nltk.pos_tag(text)\n",
    "dict_vocab={}\n",
    "vocab_list=[]\n",
    "for i in range(0,len(process)):\n",
    "    if(process[i][1] not in dictvoc.keys()):\n",
    "        lists=[]\n",
    "        lists.append(process[i][0])\n",
    "        dict_vocab.update({process[i][1]:lists})\n",
    "        vocab_list.append(process[i][1])\n",
    "    else:\n",
    "        dict_vocab[process[i][1]].append(process[i][0])\n",
    "print(dict_vocab)"
   ]
  },
  {
   "cell_type": "code",
   "execution_count": null,
   "id": "b29615a7",
   "metadata": {},
   "outputs": [],
   "source": [
    "#斷句分析\n",
    "from nltk import sent_tokenize\n",
    "sentences = sent_tokenize(result[\"text\"])\n",
    "print(sentences)"
   ]
  },
  {
   "cell_type": "code",
   "execution_count": null,
   "id": "7027b6cc",
   "metadata": {},
   "outputs": [],
   "source": [
    "from nltk.probability import FreqDist\n",
    "fdist = FreqDist(text)\n",
    "freq_top10 = fdist.most_common(10)\n",
    "print(freq_top10)"
   ]
  }
 ],
 "metadata": {
  "kernelspec": {
   "display_name": "Python 3 (ipykernel)",
   "language": "python",
   "name": "python3"
  },
  "language_info": {
   "codemirror_mode": {
    "name": "ipython",
    "version": 3
   },
   "file_extension": ".py",
   "mimetype": "text/x-python",
   "name": "python",
   "nbconvert_exporter": "python",
   "pygments_lexer": "ipython3",
   "version": "3.9.12"
  }
 },
 "nbformat": 4,
 "nbformat_minor": 5
}
