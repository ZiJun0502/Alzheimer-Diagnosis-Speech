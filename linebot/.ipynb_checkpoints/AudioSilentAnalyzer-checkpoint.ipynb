{
 "cells": [
  {
   "cell_type": "code",
   "execution_count": 2,
   "id": "fe9b8ff7",
   "metadata": {},
   "outputs": [
    {
     "name": "stdout",
     "output_type": "stream",
     "text": [
      "49\n",
      "0.6461274255228743\n"
     ]
    }
   ],
   "source": [
    "from pydub import AudioSegment\n",
    "from pydub.silence import split_on_silence\n",
    "\"\"\"\n",
    "Usage:\n",
    "a = AudioSilentAnalyzer('./Audio_Reduced/Baycrest2103.wav')\n",
    "num_silent, silent_proportion = a.get_silent()\n",
    "\"\"\"\n",
    "class AudioSilentAnalyzer:\n",
    "    def __init__(self, audio_path):\n",
    "        self.audio_path = audio_path\n",
    "        format = audio_path.split('.')[-1]\n",
    "        self.audio_seg = AudioSegment.from_file(audio_path, format=format)\n",
    "\n",
    "    def get_silent(self) -> tuple[int, float]:  # (total # of silent chunks, silent proportion)\n",
    "        chunks = split_on_silence(self.audio_seg,\n",
    "                                  min_silence_len=300,\n",
    "                                  silence_thresh=self.audio_seg.dBFS - 16,\n",
    "                                  keep_silence=250\n",
    "                                  )\n",
    "        total_silent_chunks = len(chunks)\n",
    "        total_silent_duration = sum(len(x) for x in chunks)\n",
    "        audio_duration = len(self.audio_seg)\n",
    "        silent_proportion = total_silent_duration / audio_duration if audio_duration > 0 else 0.0\n",
    "\n",
    "        return total_silent_chunks, silent_proportion\n",
    "\n",
    "if __name__ == \"__main__\":\n",
    "    wav_file = \"Baycrest2103.wav\"\n",
    "    SilenceSplit = AudioSilentAnalyzer(wav_file)\n",
    "    num_silent, silent_proportion = SilenceSplit.get_silent()\n",
    "    print(num_silent)    \n",
    "    print(silent_proportion)"
   ]
  },
  {
   "cell_type": "code",
   "execution_count": null,
   "id": "728d9879",
   "metadata": {},
   "outputs": [],
   "source": []
  }
 ],
 "metadata": {
  "kernelspec": {
   "display_name": "Python 3 (ipykernel)",
   "language": "python",
   "name": "python3"
  },
  "language_info": {
   "codemirror_mode": {
    "name": "ipython",
    "version": 3
   },
   "file_extension": ".py",
   "mimetype": "text/x-python",
   "name": "python",
   "nbconvert_exporter": "python",
   "pygments_lexer": "ipython3",
   "version": "3.9.18"
  }
 },
 "nbformat": 4,
 "nbformat_minor": 5
}
